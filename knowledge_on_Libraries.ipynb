{
 "cells": [
  {
   "cell_type": "markdown",
   "metadata": {},
   "source": [
    "##### os Module in python provides functions to interact with operating system. It allows you to work with files, directories, environment variables, processes and system operations."
   ]
  },
  {
   "cell_type": "code",
   "execution_count": 1,
   "metadata": {},
   "outputs": [],
   "source": [
    "import os"
   ]
  },
  {
   "cell_type": "markdown",
   "metadata": {},
   "source": [
    "#### Key Features of os Module\n",
    "1. Working with Directories\n",
    "a. Get Current Directory → os.getcwd()\n",
    "b. Change Directory → os.chdir(path)\n",
    "c. List Files in Directory → os.listdir(path)\n",
    "2. Creating & Deleting Directories\n",
    "a. Create a Directory → os.mkdir('new_folder')\n",
    "b. Create Nested Directories → os.makedirs('parent/child')\n",
    "c. Remove a Directory → os.rmdir('folder')\n",
    "d. Remove Nested Directories → os.removedirs('parent/child')\n",
    "3. Working with Files\n",
    "a. Check if File Exists → os.path.exists('file.txt')\n",
    "b. Get File Size → os.path.getsize('file.txt')\n",
    "c. Rename a File → os.rename('old.txt', 'new.txt')\n",
    "d. Remove a File → os.remove('file.txt')\n",
    "4. Path Operations (os.path)\n",
    "Join Paths → os.path.join('folder', 'file.txt')\n",
    "a. Get Absolute Path → os.path.abspath('file.txt')\n",
    "b. Get File Name from Path → os.path.basename('/home/user/file.txt')\n",
    "c. Get Directory from Path → os.path.dirname('/home/user/file.txt')\n",
    "d. Check if Path is File or Directory → os.path.isfile('file.txt'), os.path.isdir('folder')\n",
    "5. Working with Environment Variables\n",
    "a. Get an Environment Variable → os.environ.get('HOME')\n",
    "b. Set an Environment Variable → os.environ['MY_VAR'] = 'value'\n",
    "6. Running System Commands\n",
    "a. Execute a System Command → os.system('ls') (Linux) or os.system('dir') (Windows)\n",
    "b. Get Output of a Command → os.popen('ls').read()\n",
    "7. Process Management\n",
    "a. Get Process ID → os.getpid()\n",
    "b. Get Parent Process ID → os.getppid()\n",
    "c. Fork a Process (Linux only) → os.fork()"
   ]
  },
  {
   "cell_type": "code",
   "execution_count": null,
   "metadata": {},
   "outputs": [],
   "source": []
  }
 ],
 "metadata": {
  "kernelspec": {
   "display_name": "base",
   "language": "python",
   "name": "python3"
  },
  "language_info": {
   "codemirror_mode": {
    "name": "ipython",
    "version": 3
   },
   "file_extension": ".py",
   "mimetype": "text/x-python",
   "name": "python",
   "nbconvert_exporter": "python",
   "pygments_lexer": "ipython3",
   "version": "3.12.3"
  }
 },
 "nbformat": 4,
 "nbformat_minor": 2
}
