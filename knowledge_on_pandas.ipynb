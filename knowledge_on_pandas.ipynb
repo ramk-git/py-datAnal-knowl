{
 "cells": [
  {
   "cell_type": "code",
   "execution_count": 1,
   "metadata": {},
   "outputs": [],
   "source": [
    "import pandas as pd"
   ]
  },
  {
   "cell_type": "code",
   "execution_count": 2,
   "metadata": {},
   "outputs": [
    {
     "data": {
      "text/html": [
       "<div>\n",
       "<style scoped>\n",
       "    .dataframe tbody tr th:only-of-type {\n",
       "        vertical-align: middle;\n",
       "    }\n",
       "\n",
       "    .dataframe tbody tr th {\n",
       "        vertical-align: top;\n",
       "    }\n",
       "\n",
       "    .dataframe thead th {\n",
       "        text-align: right;\n",
       "    }\n",
       "</style>\n",
       "<table border=\"1\" class=\"dataframe\">\n",
       "  <thead>\n",
       "    <tr style=\"text-align: right;\">\n",
       "      <th></th>\n",
       "      <th>R&amp;B Spend</th>\n",
       "      <th>Marketing spend</th>\n",
       "      <th>Administration</th>\n",
       "      <th>profit</th>\n",
       "    </tr>\n",
       "  </thead>\n",
       "  <tbody>\n",
       "    <tr>\n",
       "      <th>0</th>\n",
       "      <td>160000</td>\n",
       "      <td>40000</td>\n",
       "      <td>120000</td>\n",
       "      <td>30000</td>\n",
       "    </tr>\n",
       "    <tr>\n",
       "      <th>1</th>\n",
       "      <td>230000</td>\n",
       "      <td>50000</td>\n",
       "      <td>130000</td>\n",
       "      <td>20000</td>\n",
       "    </tr>\n",
       "    <tr>\n",
       "      <th>2</th>\n",
       "      <td>400000</td>\n",
       "      <td>60000</td>\n",
       "      <td>140000</td>\n",
       "      <td>230230</td>\n",
       "    </tr>\n",
       "    <tr>\n",
       "      <th>3</th>\n",
       "      <td>250000</td>\n",
       "      <td>35000</td>\n",
       "      <td>150000</td>\n",
       "      <td>212230</td>\n",
       "    </tr>\n",
       "    <tr>\n",
       "      <th>4</th>\n",
       "      <td>800000</td>\n",
       "      <td>20000</td>\n",
       "      <td>160000</td>\n",
       "      <td>50000</td>\n",
       "    </tr>\n",
       "  </tbody>\n",
       "</table>\n",
       "</div>"
      ],
      "text/plain": [
       "   R&B Spend  Marketing spend  Administration  profit\n",
       "0     160000            40000          120000   30000\n",
       "1     230000            50000          130000   20000\n",
       "2     400000            60000          140000  230230\n",
       "3     250000            35000          150000  212230\n",
       "4     800000            20000          160000   50000"
      ]
     },
     "execution_count": 2,
     "metadata": {},
     "output_type": "execute_result"
    }
   ],
   "source": [
    "# Create a DataFrame using dictionary of lists\n",
    "data = {\n",
    "    'R&B Spend' : [160000,230000,400000,250000,800000,750000],\n",
    "    'Marketing spend' : [40000,50000,60000,35000,20000,75000],\n",
    "    'Administration' : [120000,130000,140000,150000,160000,162300],\n",
    "    'profit' : [30000,20000,230230,212230,50000,230000]\n",
    "}\n",
    "df = pd.DataFrame(data)\n",
    "df.head(5)"
   ]
  },
  {
   "cell_type": "code",
   "execution_count": 3,
   "metadata": {},
   "outputs": [
    {
     "data": {
      "text/plain": [
       "Index(['R&B Spend', 'Marketing spend', 'Administration', 'profit'], dtype='object')"
      ]
     },
     "execution_count": 3,
     "metadata": {},
     "output_type": "execute_result"
    }
   ],
   "source": [
    "df.columns"
   ]
  },
  {
   "cell_type": "code",
   "execution_count": 4,
   "metadata": {},
   "outputs": [],
   "source": [
    "# splitting the features into X and y feaatures\n",
    "X = df[['R&B Spend', 'Marketing spend', 'Administration']]\n",
    "y_dataframe = df[['profit']]\n",
    "y_series = df['profit']"
   ]
  },
  {
   "cell_type": "code",
   "execution_count": 7,
   "metadata": {},
   "outputs": [
    {
     "data": {
      "text/html": [
       "<div>\n",
       "<style scoped>\n",
       "    .dataframe tbody tr th:only-of-type {\n",
       "        vertical-align: middle;\n",
       "    }\n",
       "\n",
       "    .dataframe tbody tr th {\n",
       "        vertical-align: top;\n",
       "    }\n",
       "\n",
       "    .dataframe thead th {\n",
       "        text-align: right;\n",
       "    }\n",
       "</style>\n",
       "<table border=\"1\" class=\"dataframe\">\n",
       "  <thead>\n",
       "    <tr style=\"text-align: right;\">\n",
       "      <th></th>\n",
       "      <th>profit</th>\n",
       "    </tr>\n",
       "  </thead>\n",
       "  <tbody>\n",
       "    <tr>\n",
       "      <th>0</th>\n",
       "      <td>30000</td>\n",
       "    </tr>\n",
       "    <tr>\n",
       "      <th>1</th>\n",
       "      <td>20000</td>\n",
       "    </tr>\n",
       "    <tr>\n",
       "      <th>2</th>\n",
       "      <td>230230</td>\n",
       "    </tr>\n",
       "    <tr>\n",
       "      <th>3</th>\n",
       "      <td>212230</td>\n",
       "    </tr>\n",
       "    <tr>\n",
       "      <th>4</th>\n",
       "      <td>50000</td>\n",
       "    </tr>\n",
       "  </tbody>\n",
       "</table>\n",
       "</div>"
      ],
      "text/plain": [
       "   profit\n",
       "0   30000\n",
       "1   20000\n",
       "2  230230\n",
       "3  212230\n",
       "4   50000"
      ]
     },
     "execution_count": 7,
     "metadata": {},
     "output_type": "execute_result"
    }
   ],
   "source": [
    "y_dataframe.head()"
   ]
  },
  {
   "cell_type": "code",
   "execution_count": 6,
   "metadata": {},
   "outputs": [
    {
     "data": {
      "text/plain": [
       "0     30000\n",
       "1     20000\n",
       "2    230230\n",
       "3    212230\n",
       "4     50000\n",
       "Name: profit, dtype: int64"
      ]
     },
     "execution_count": 6,
     "metadata": {},
     "output_type": "execute_result"
    }
   ],
   "source": [
    "y_series.head()"
   ]
  },
  {
   "cell_type": "markdown",
   "metadata": {},
   "source": [
    "##### In the above two statements y_dataframe.head() & y_series.head() - main difference is column index. It's visible with DataFrame and not visible with Series"
   ]
  },
  {
   "cell_type": "code",
   "execution_count": 8,
   "metadata": {},
   "outputs": [],
   "source": [
    "# When we are assigning multiple columns to X. It automatically considered as DataFrame.\n",
    "# But when we are assigning a single column (df['profit']), then it will generate it as Series.\n",
    "# Series object won't have column index. It's considered as an array.\n",
    "\n",
    "#To avoid the above problem - assign it a y = df[['profit']]. Now this will make y as dataframe instead of series"
   ]
  },
  {
   "cell_type": "code",
   "execution_count": 10,
   "metadata": {},
   "outputs": [],
   "source": [
    "# (model.coef_).shape --> (1, 3) --> 2D Array\n",
    "# (model.coef_.ravel()).shape --> (3,) --> 1D Array\n",
    "\n",
    "# ravel() is used for converting a 2D array into 1D array. "
   ]
  },
  {
   "cell_type": "markdown",
   "metadata": {},
   "source": [
    "#### Creating a Correlation Matrix"
   ]
  },
  {
   "cell_type": "markdown",
   "metadata": {},
   "source": [
    "##### Correlation_matrix = df.corr()\n",
    "##### print(Correlation_matrix)"
   ]
  },
  {
   "cell_type": "markdown",
   "metadata": {},
   "source": [
    "##### Refer the below format for creating a table in Markdown - Jupyter notebook"
   ]
  },
  {
   "cell_type": "markdown",
   "metadata": {},
   "source": [
    "|         | Size    | Bedrooms |  Distance_from_City |    Price |\n",
    "|:--------|:-------:|:--------:|:-------------------:|---------:|\n",
    "|Size     | 1.000000| 0.618609 |      0.424136       | 0.996648 |\n",
    "| Bedrooms| 0.618609| 1.000000 |      0.972345       | 0.650000 |\n",
    "| Distance| 0.424136| 0.972345 |      1.000000       | 0.458124 |\n",
    "| Price   | 0.996648| 0.650000 |      0.458124       | 1.000000 |"
   ]
  },
  {
   "cell_type": "markdown",
   "metadata": {},
   "source": [
    "#### Understanding Correlation in Data Science"
   ]
  },
  {
   "cell_type": "code",
   "execution_count": 11,
   "metadata": {},
   "outputs": [],
   "source": [
    "# r = 1, Perfect positive correlation ( Variables move in same direction)\n",
    "# r =-1, Perfect negative correlation ( Variables move in opposite direction)\n",
    "# The diagonal always shows 1 because it’s the correlation of a variable with itself.\n",
    "# Look at off-diagonal values to identify correlations between different independent variables.\n",
    "# If r > 0.8 or r < -0.8, the variables are highly correlated → Possible multicollinearity issue."
   ]
  },
  {
   "cell_type": "markdown",
   "metadata": {},
   "source": [
    "##### What to Do If You Find High Correlation?"
   ]
  },
  {
   "cell_type": "code",
   "execution_count": null,
   "metadata": {},
   "outputs": [],
   "source": [
    "# If two features are highly correlated (|r| > 0.8), take action:\n",
    "# 1. Drop One of the Features\n",
    "#      Keep the one that makes more sense from a business perspective.\n",
    "#      df = df.drop(columns=['Feature2'])  # Drop the redundant feature\n",
    "\n",
    "# 2. Use PCA (Principal Component Analysis)\n",
    "#      PCA reduces correlated variables into uncorrelated components.\n",
    "#from sklearn.decomposition import PCA\n",
    "#pca = PCA(n_components=2)  # Reduce dimensions\n",
    "#new_features = pca.fit_transform(df[['Feature1', 'Feature2', 'Feature3']])\n",
    "\n",
    "# 3. Apply Ridge Regression (Regularization)\n",
    "#      Ridge Regression reduces the impact of collinearity using an L2 penalty.\n",
    "#      Instead of removing variables, it shrinks their effect.\n",
    "#from sklearn.linear_model import Ridge\n",
    "#ridge_model = Ridge(alpha=1.0)\n",
    "#ridge_model.fit(df[['Feature1', 'Feature2', 'Feature3']], df['Target'])"
   ]
  },
  {
   "cell_type": "markdown",
   "metadata": {},
   "source": [
    "##### What to Do If You Find Medium Correlation?"
   ]
  },
  {
   "cell_type": "code",
   "execution_count": 12,
   "metadata": {},
   "outputs": [],
   "source": [
    "# Moderate correlation is 0.5 ≤ |r| < 0.8.\n",
    "# For moderate correlation (0.5 ≤ |r| < 0.8), it’s not always necessary to take action, \n",
    "# but you should analyze further to ensure it doesn't negatively impact your model.\n",
    "\n",
    "# Even if correlation is moderate, check if it causes multicollinearity using VIF.\n",
    "# VIF < 5 → No issue ✅\n",
    "# VIF between 5-10 → Moderate multicollinearity ⚠️ (Consider reducing)\n",
    "# VIF > 10 → High multicollinearity ❌ (Remove or transform variables)"
   ]
  },
  {
   "cell_type": "markdown",
   "metadata": {},
   "source": [
    "##### Handling Multicollinearity - Multicollinearity occurs when independent variables are highly correlated. Detect using the Variance Inflation Factor (VIF):"
   ]
  },
  {
   "cell_type": "code",
   "execution_count": null,
   "metadata": {},
   "outputs": [],
   "source": [
    "from statsmodels.stats.outliers_influence import variance_inflation_factor\n",
    "\n",
    "vif_data = pd.DataFrame()\n",
    "vif_data[\"Feature\"] = X.columns\n",
    "vif_data[\"VIF\"] = [variance_inflation_factor(X.values, i) for i in range(X.shape[1])]\n",
    "\n",
    "print(vif_data)"
   ]
  },
  {
   "cell_type": "markdown",
   "metadata": {},
   "source": [
    "| Feature            | VIF       |\n",
    "|--------------------|----------|\n",
    "| Size              | 24.911368 |\n",
    "| Bedrooms          | 55.152882 |\n",
    "| Distance_from_City | 15.444262 |"
   ]
  },
  {
   "cell_type": "raw",
   "metadata": {
    "vscode": {
     "languageId": "raw"
    }
   },
   "source": [
    "# Apply Linear Regression using OLS\n",
    "import statsmodels.api as sm\n",
    "X_train = sm.add_constant(X_train)  # Adds a column of ones for the intercept\n",
    "model = sm.OLS(y_train,X_train).fit() #Note: always target values (y_train) comes first in OLS\n",
    "predections = model.predict(X_test)\n",
    "print(model.summary())"
   ]
  },
  {
   "cell_type": "raw",
   "metadata": {
    "vscode": {
     "languageId": "raw"
    }
   },
   "source": [
    "from sklearn.preprocessing import StandardScaler\n",
    "scaler = StandardScaler()\n",
    "X_train = scaler.fit_transform(X_train.to_frame()) #Fit_transform returns numpy ndarray\n",
    "X_test = scaler.fit_transform(X_test.to_frame()) #Fit_transform returns numpy ndarray"
   ]
  },
  {
   "cell_type": "markdown",
   "metadata": {},
   "source": []
  }
 ],
 "metadata": {
  "kernelspec": {
   "display_name": "base",
   "language": "python",
   "name": "python3"
  },
  "language_info": {
   "codemirror_mode": {
    "name": "ipython",
    "version": 3
   },
   "file_extension": ".py",
   "mimetype": "text/x-python",
   "name": "python",
   "nbconvert_exporter": "python",
   "pygments_lexer": "ipython3",
   "version": "3.12.3"
  }
 },
 "nbformat": 4,
 "nbformat_minor": 2
}
